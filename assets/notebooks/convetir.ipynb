{
 "cells": [
  {
   "cell_type": "code",
   "execution_count": 1,
   "id": "0aa7b772",
   "metadata": {},
   "outputs": [],
   "source": [
    "import nbconvert\n",
    "\n",
    "exporter = nbconvert.HTMLExporter()\n",
    "output, _ = exporter.from_filename(\"Modelo AR- Supplement Sales.ipynb\")\n",
    "\n",
    "with open(\"ar_supplement_sales.html\", \"w\", encoding=\"utf-8\") as f:\n",
    "    f.write(output)\n"
   ]
  }
 ],
 "metadata": {
  "kernelspec": {
   "display_name": "myenv",
   "language": "python",
   "name": "python3"
  },
  "language_info": {
   "codemirror_mode": {
    "name": "ipython",
    "version": 3
   },
   "file_extension": ".py",
   "mimetype": "text/x-python",
   "name": "python",
   "nbconvert_exporter": "python",
   "pygments_lexer": "ipython3",
   "version": "3.13.5"
  }
 },
 "nbformat": 4,
 "nbformat_minor": 5
}
